{
 "cells": [
  {
   "cell_type": "markdown",
   "metadata": {
    "id": "hWQC8iCE2_-o"
   },
   "source": [
    "# **Milestone 2**"
   ]
  },
  {
   "cell_type": "markdown",
   "metadata": {
    "id": "DYdEI31whyE-"
   },
   "source": [
    "We have built two Convolutional Neural Network architectures in Milestone 1. Here, we will further try to achieve better performance by increasing the number of parameters/weights. Therefore, we will start this Milestone with three popular Transfer Learning architectures, namely, VGG16, ResNet v2, and Efficient Net. Please feel free to explore other pre-trained models as well. Link to Keras documentation for pre-trained models - https://keras.io/api/applications/\n",
    "\n"
   ]
  },
  {
   "cell_type": "markdown",
   "metadata": {
    "id": "HDM89XHyCxrA"
   },
   "source": [
    "## **Mounting the Drive**\n"
   ]
  },
  {
   "cell_type": "code",
   "execution_count": 59,
   "metadata": {
    "colab": {
     "base_uri": "https://localhost:8080/"
    },
    "id": "JQi_degJC3dm",
    "outputId": "d1e40507-0c42-4523-e759-ff79d020c67f"
   },
   "outputs": [
    {
     "name": "stdout",
     "output_type": "stream",
     "text": [
      "Drive already mounted at /content/drive; to attempt to forcibly remount, call drive.mount(\"/content/drive\", force_remount=True).\n"
     ]
    }
   ],
   "source": [
    "# Mounting the drive\n",
    "from google.colab import drive\n",
    "drive.mount('/content/drive')"
   ]
  },
  {
   "cell_type": "markdown",
   "metadata": {
    "id": "UC8-yLUUCcWh"
   },
   "source": [
    "## **Importing the Libraries**"
   ]
  },
  {
   "cell_type": "code",
   "execution_count": 60,
   "metadata": {
    "id": "30fd2144"
   },
   "outputs": [],
   "source": [
    "import zipfile\n",
    "import matplotlib.pyplot as plt\n",
    "import numpy as np\n",
    "import pandas as pd\n",
    "import seaborn as sns\n",
    "import os\n",
    "\n",
    "# Importing Deep Learning Libraries\n",
    "import tensorflow as tf\n",
    "from tensorflow.keras.preprocessing.image import load_img, img_to_array\n",
    "from tensorflow.keras.preprocessing.image import ImageDataGenerator\n",
    "from tensorflow.keras.layers import Dense, Input, Dropout, GlobalAveragePooling2D, Flatten, Conv2D, BatchNormalization, Activation, MaxPooling2D, LeakyReLU\n",
    "from tensorflow.keras.models import Model, Sequential\n",
    "from tensorflow.keras.optimizers import Adam, SGD, RMSprop"
   ]
  },
  {
   "cell_type": "markdown",
   "metadata": {
    "id": "nCqJk2XpCnJi"
   },
   "source": [
    "### **Let us load the data**"
   ]
  },
  {
   "cell_type": "code",
   "execution_count": 61,
   "metadata": {
    "id": "sMfr4tK04C0o"
   },
   "outputs": [],
   "source": [
    "# Storing the path of the data file from the Google drive\n",
    "path = '/content/drive/MyDrive/Facial_emotion_images.zip'\n",
    "\n",
    "with zipfile.ZipFile(path, 'r') as zip_ref:\n",
    "    zip_ref.extractall()"
   ]
  },
  {
   "cell_type": "code",
   "execution_count": 62,
   "metadata": {
    "id": "4e89d1c7"
   },
   "outputs": [],
   "source": [
    "picture_size = 48\n",
    "folder_path = \"Facial_emotion_images/\""
   ]
  },
  {
   "cell_type": "markdown",
   "metadata": {
    "id": "boQi7epI3Lsu"
   },
   "source": [
    "## **Transfer Learning Architectures**\n",
    "\n",
    "In this section, we will create several Transfer Learning architectures. For the pre-trained models, we will select three popular architectures namely, VGG16, ResNet v2, and Efficient Net. The difference between these architectures and the previous architectures is that these will require 3 input channels while the earlier ones worked on 'grayscale' images. Therefore, we need to create new DataLoaders."
   ]
  },
  {
   "cell_type": "markdown",
   "metadata": {
    "id": "J7NKTPgdEsgt"
   },
   "source": [
    "### **Creating our Data Loaders for Transfer Learning Architectures**"
   ]
  },
  {
   "cell_type": "code",
   "execution_count": 63,
   "metadata": {
    "colab": {
     "base_uri": "https://localhost:8080/"
    },
    "id": "d97fee2d",
    "outputId": "4f8c020a-ea0d-412f-a006-87954370b79c"
   },
   "outputs": [
    {
     "name": "stdout",
     "output_type": "stream",
     "text": [
      "Found 15109 images belonging to 4 classes.\n",
      "Found 4977 images belonging to 4 classes.\n",
      "Found 128 images belonging to 4 classes.\n"
     ]
    }
   ],
   "source": [
    "batch_size  = 32\n",
    "img_size = 48\n",
    "\n",
    "datagen_train = ImageDataGenerator(horizontal_flip = True,\n",
    "                                    brightness_range = (0., 2.),\n",
    "                                    rescale = 1./255,\n",
    "                                    shear_range = 0.3)\n",
    "\n",
    "train_set = datagen_train.flow_from_directory(folder_path + \"train\",\n",
    "                                              target_size = (img_size, img_size),\n",
    "                                              color_mode = 'rgb',\n",
    "                                              batch_size = batch_size,\n",
    "                                              class_mode = 'categorical',\n",
    "                                              classes = ['happy', 'sad', 'neutral', 'surprise'],\n",
    "                                              shuffle = True)\n",
    "\n",
    "datagen_validation = ImageDataGenerator(horizontal_flip = True,\n",
    "                                    brightness_range = (0., 2.),\n",
    "                                    rescale = 1./255,\n",
    "                                    shear_range = 0.3)\n",
    "validation_set = datagen_train.flow_from_directory(folder_path + \"validation\",\n",
    "                                              target_size = (img_size, img_size),\n",
    "                                              color_mode = 'rgb',\n",
    "                                              batch_size = batch_size,\n",
    "                                              class_mode = 'categorical',\n",
    "                                              classes = ['happy', 'sad', 'neutral', 'surprise'],\n",
    "                                              shuffle = True)\n",
    "\n",
    "datagen_test = ImageDataGenerator(horizontal_flip = True,\n",
    "                                    brightness_range = (0., 2.),\n",
    "                                    rescale = 1./255,\n",
    "                                    shear_range = 0.3)\n",
    "\n",
    "test_set = datagen_train.flow_from_directory(folder_path + \"test\",\n",
    "                                              target_size = (img_size, img_size),\n",
    "                                              color_mode = 'rgb',\n",
    "                                              batch_size = 128,\n",
    "                                              class_mode = 'categorical',\n",
    "                                              classes = ['happy', 'sad', 'neutral', 'surprise'],\n",
    "                                              shuffle = True)"
   ]
  },
  {
   "cell_type": "code",
   "execution_count": 64,
   "metadata": {
    "id": "YMJ7lcGFxueu"
   },
   "outputs": [],
   "source": [
    "# Fixing the seed for random number generators\n",
    "\n",
    "np.random.seed(42)\n",
    "\n",
    "import random\n",
    "\n",
    "random.seed(42)\n",
    "\n",
    "tf.random.set_seed(42)"
   ]
  },
  {
   "cell_type": "markdown",
   "metadata": {
    "id": "vaUYQdkf7pDG"
   },
   "source": [
    "## **VGG16 Model**"
   ]
  },
  {
   "cell_type": "markdown",
   "metadata": {
    "id": "ThCSNrWC4HW0"
   },
   "source": [
    "### **Importing the VGG16 Architecture**"
   ]
  },
  {
   "cell_type": "code",
   "execution_count": 64,
   "metadata": {
    "colab": {
     "base_uri": "https://localhost:8080/"
    },
    "id": "7c83c83e",
    "outputId": "d66c6e5a-9ec7-499b-c689-2a7587f1adc4",
    "scrolled": true
   },
   "outputs": [
    {
     "name": "stdout",
     "output_type": "stream",
     "text": [
      "Model: \"vgg16\"\n",
      "_________________________________________________________________\n",
      " Layer (type)                Output Shape              Param #   \n",
      "=================================================================\n",
      " input_1 (InputLayer)        [(None, 48, 48, 3)]       0         \n",
      "                                                                 \n",
      " block1_conv1 (Conv2D)       (None, 48, 48, 64)        1792      \n",
      "                                                                 \n",
      " block1_conv2 (Conv2D)       (None, 48, 48, 64)        36928     \n",
      "                                                                 \n",
      " block1_pool (MaxPooling2D)  (None, 24, 24, 64)        0         \n",
      "                                                                 \n",
      " block2_conv1 (Conv2D)       (None, 24, 24, 128)       73856     \n",
      "                                                                 \n",
      " block2_conv2 (Conv2D)       (None, 24, 24, 128)       147584    \n",
      "                                                                 \n",
      " block2_pool (MaxPooling2D)  (None, 12, 12, 128)       0         \n",
      "                                                                 \n",
      " block3_conv1 (Conv2D)       (None, 12, 12, 256)       295168    \n",
      "                                                                 \n",
      " block3_conv2 (Conv2D)       (None, 12, 12, 256)       590080    \n",
      "                                                                 \n",
      " block3_conv3 (Conv2D)       (None, 12, 12, 256)       590080    \n",
      "                                                                 \n",
      " block3_pool (MaxPooling2D)  (None, 6, 6, 256)         0         \n",
      "                                                                 \n",
      " block4_conv1 (Conv2D)       (None, 6, 6, 512)         1180160   \n",
      "                                                                 \n",
      " block4_conv2 (Conv2D)       (None, 6, 6, 512)         2359808   \n",
      "                                                                 \n",
      " block4_conv3 (Conv2D)       (None, 6, 6, 512)         2359808   \n",
      "                                                                 \n",
      " block4_pool (MaxPooling2D)  (None, 3, 3, 512)         0         \n",
      "                                                                 \n",
      " block5_conv1 (Conv2D)       (None, 3, 3, 512)         2359808   \n",
      "                                                                 \n",
      " block5_conv2 (Conv2D)       (None, 3, 3, 512)         2359808   \n",
      "                                                                 \n",
      " block5_conv3 (Conv2D)       (None, 3, 3, 512)         2359808   \n",
      "                                                                 \n",
      " block5_pool (MaxPooling2D)  (None, 1, 1, 512)         0         \n",
      "                                                                 \n",
      "=================================================================\n",
      "Total params: 14,714,688\n",
      "Trainable params: 14,714,688\n",
      "Non-trainable params: 0\n",
      "_________________________________________________________________\n"
     ]
    }
   ],
   "source": [
    "from tensorflow.keras.applications.vgg16 import VGG16\n",
    "from tensorflow.keras import Model\n",
    "\n",
    "vgg = VGG16(include_top = False, weights = 'imagenet', input_shape = (48, 48, 3))\n",
    "vgg.summary()"
   ]
  },
  {
   "cell_type": "markdown",
   "metadata": {
    "id": "X76HMyZX4edM"
   },
   "source": [
    "### **Model Building**"
   ]
  },
  {
   "cell_type": "code",
   "execution_count": 76,
   "metadata": {
    "id": "8b123bc6"
   },
   "outputs": [],
   "source": [
    "transfer_layer = vgg.get_layer('block5_pool')\n",
    "vgg.trainable = False\n",
    "\n",
    "\n",
    "\n",
    "# Flattenning the output from the 3rd block of the VGG16 model\n",
    "x = Flatten()(transfer_layer.output)\n",
    "x = Dense(1024, activation = 'relu')(x)\n",
    "x = Dense(512, activation = 'relu')(x)\n",
    "x = Dropout(0.3)(x)\n",
    "# Adding a Dense layer with 256 neurons\n",
    "x = Dense(512, activation = 'relu')(x)\n",
    "x = Dense(256, activation = 'relu')(x)\n",
    "# Add a Dense Layer with 128 neurons\n",
    "x = Dense(128, activation = 'relu')(x)\n",
    "\n",
    "# Add a DropOut layer with Drop out ratio of 0.3\n",
    "x = Dropout(0.3)(x)\n",
    "\n",
    "# Add a Dense Layer with 64 neurons\n",
    "x = Dense(64, activation = 'relu')(x)\n",
    "x = Dense(32, activation = 'relu')(x)\n",
    "x = Dropout(0.4)(x)\n",
    "# Add a Batch Normalization layer\n",
    "x = BatchNormalization()(x)\n",
    "\n",
    "# Adding the final dense layer with 4 neurons and use 'softmax' activation\n",
    "pred = Dense(4, activation='softmax')(x)\n",
    "\n",
    "vggmodel = Model(vgg.input, pred) # Initializing the model"
   ]
  },
  {
   "cell_type": "markdown",
   "metadata": {
    "id": "t6vK7u7w8GsM"
   },
   "source": [
    "### **Compiling and Training the VGG16 Model**"
   ]
  },
  {
   "cell_type": "code",
   "execution_count": 77,
   "metadata": {
    "id": "86b249f1"
   },
   "outputs": [],
   "source": [
    "from keras.callbacks import ModelCheckpoint, EarlyStopping, ReduceLROnPlateau\n",
    "\n",
    "checkpoint = ModelCheckpoint(\"./vggmodel.h5\", monitor = 'val_loss', verbose = 1, save_best_only = True, mode = 'max')\n",
    "\n",
    "early_stopping = EarlyStopping(monitor = 'val_loss',\n",
    "                          min_delta = 0,\n",
    "                          patience = 3,\n",
    "                          verbose = 1,\n",
    "                          restore_best_weights = True\n",
    "                          )\n",
    "\n",
    "reduce_learningrate = ReduceLROnPlateau(monitor = 'val_loss',\n",
    "                              factor = 0.2,\n",
    "                              patience = 3,\n",
    "                              verbose = 1,\n",
    "                              min_delta = 0.00001)\n",
    "\n",
    "callbacks_list = [early_stopping, checkpoint, reduce_learningrate]\n",
    "\n",
    "epochs = 20"
   ]
  },
  {
   "cell_type": "code",
   "execution_count": 78,
   "metadata": {
    "id": "0PN6ghMOGGgf"
   },
   "outputs": [],
   "source": [
    "optimizer = tf.keras.optimizers.Adam(0.0001)\n",
    "vggmodel.compile(loss = 'categorical_crossentropy', optimizer = optimizer, metrics = ['accuracy'])"
   ]
  },
  {
   "cell_type": "code",
   "execution_count": 79,
   "metadata": {
    "colab": {
     "base_uri": "https://localhost:8080/"
    },
    "id": "893285ee",
    "outputId": "f09a4ca2-3067-4aa7-ef0b-770f48c6a418"
   },
   "outputs": [
    {
     "name": "stdout",
     "output_type": "stream",
     "text": [
      "Epoch 1/20\n",
      "473/473 [==============================] - 25s 51ms/step - loss: 1.4664 - accuracy: 0.2823 - val_loss: 1.2904 - val_accuracy: 0.4193\n",
      "Epoch 2/20\n",
      "473/473 [==============================] - 24s 50ms/step - loss: 1.3524 - accuracy: 0.3265 - val_loss: 1.2873 - val_accuracy: 0.4169\n",
      "Epoch 3/20\n",
      "473/473 [==============================] - 24s 51ms/step - loss: 1.3212 - accuracy: 0.3476 - val_loss: 1.2737 - val_accuracy: 0.4398\n",
      "Epoch 4/20\n",
      "473/473 [==============================] - 24s 51ms/step - loss: 1.2912 - accuracy: 0.3783 - val_loss: 1.2416 - val_accuracy: 0.4298\n",
      "Epoch 5/20\n",
      "473/473 [==============================] - 24s 50ms/step - loss: 1.2717 - accuracy: 0.3925 - val_loss: 1.2220 - val_accuracy: 0.4579\n",
      "Epoch 6/20\n",
      "473/473 [==============================] - 24s 50ms/step - loss: 1.2534 - accuracy: 0.4141 - val_loss: 1.2388 - val_accuracy: 0.4432\n",
      "Epoch 7/20\n",
      "473/473 [==============================] - 24s 50ms/step - loss: 1.2384 - accuracy: 0.4270 - val_loss: 1.1686 - val_accuracy: 0.4866\n",
      "Epoch 8/20\n",
      "473/473 [==============================] - 24s 51ms/step - loss: 1.2212 - accuracy: 0.4404 - val_loss: 1.1947 - val_accuracy: 0.4647\n",
      "Epoch 9/20\n",
      "473/473 [==============================] - 24s 51ms/step - loss: 1.2170 - accuracy: 0.4495 - val_loss: 1.1946 - val_accuracy: 0.4678\n",
      "Epoch 10/20\n",
      "473/473 [==============================] - 24s 51ms/step - loss: 1.2055 - accuracy: 0.4542 - val_loss: 1.1547 - val_accuracy: 0.4923\n",
      "Epoch 11/20\n",
      "473/473 [==============================] - 24s 51ms/step - loss: 1.1921 - accuracy: 0.4592 - val_loss: 1.1524 - val_accuracy: 0.4927\n",
      "Epoch 12/20\n",
      "473/473 [==============================] - 24s 51ms/step - loss: 1.1950 - accuracy: 0.4614 - val_loss: 1.1663 - val_accuracy: 0.4917\n",
      "Epoch 13/20\n",
      "473/473 [==============================] - 24s 51ms/step - loss: 1.1789 - accuracy: 0.4720 - val_loss: 1.1365 - val_accuracy: 0.5047\n",
      "Epoch 14/20\n",
      "473/473 [==============================] - 24s 51ms/step - loss: 1.1798 - accuracy: 0.4720 - val_loss: 1.1636 - val_accuracy: 0.4818\n",
      "Epoch 15/20\n",
      "473/473 [==============================] - 24s 51ms/step - loss: 1.1663 - accuracy: 0.4793 - val_loss: 1.1484 - val_accuracy: 0.4913\n",
      "Epoch 16/20\n",
      "473/473 [==============================] - 24s 51ms/step - loss: 1.1586 - accuracy: 0.4876 - val_loss: 1.1473 - val_accuracy: 0.4931\n",
      "Epoch 17/20\n",
      "473/473 [==============================] - 24s 50ms/step - loss: 1.1637 - accuracy: 0.4869 - val_loss: 1.1167 - val_accuracy: 0.5124\n",
      "Epoch 18/20\n",
      "473/473 [==============================] - 24s 50ms/step - loss: 1.1510 - accuracy: 0.4990 - val_loss: 1.1285 - val_accuracy: 0.5019\n",
      "Epoch 19/20\n",
      "473/473 [==============================] - 24s 50ms/step - loss: 1.1437 - accuracy: 0.4954 - val_loss: 1.1297 - val_accuracy: 0.4945\n",
      "Epoch 20/20\n",
      "473/473 [==============================] - 24s 51ms/step - loss: 1.1438 - accuracy: 0.4965 - val_loss: 1.1364 - val_accuracy: 0.4935\n"
     ]
    }
   ],
   "source": [
    "history = vggmodel.fit(train_set, validation_data = validation_set, epochs = 20)\n",
    "\n"
   ]
  },
  {
   "cell_type": "markdown",
   "metadata": {
    "id": "Un-19jPckK07"
   },
   "source": [
    "### **Evaluating the VGG16 model**"
   ]
  },
  {
   "cell_type": "code",
   "execution_count": 80,
   "metadata": {
    "colab": {
     "base_uri": "https://localhost:8080/",
     "height": 791
    },
    "id": "t6Y_bSLCkcvr",
    "outputId": "aa59b1b7-d2ec-4849-d2a3-4ab320564aa6"
   },
   "outputs": [
    {
     "data": {
      "image/png": "[encoded data removed]",
      "text/plain": [
       "<Figure size 576x576 with 1 Axes>"
      ]
     },
     "metadata": {
      "needs_background": "light"
     },
     "output_type": "display_data"
    },
    {
     "data": {
      "image/png": "[encoded data removed]",
      "text/plain": [
       "<Figure size 432x288 with 1 Axes>"
      ]
     },
     "metadata": {
      "needs_background": "light"
     },
     "output_type": "display_data"
    }
   ],
   "source": [
    "# Write your code to evaluate model performance on the test set\n",
    "\n",
    "dict_hist = history.history\n",
    "\n",
    "list_ep = [i for i in range(1, 21)]\n",
    "\n",
    "plt.figure(figsize = (8, 8))\n",
    "\n",
    "\n",
    "plt.plot(list_ep, dict_hist['accuracy'], ls = '--', label = 'accuracy')\n",
    "\n",
    "plt.plot(list_ep, dict_hist['val_accuracy'], ls = '--', label = 'val_accuracy')\n",
    "\n",
    "plt.title(' VGG Model Accuracy')\n",
    "\n",
    "plt.ylabel('Accuracy')\n",
    "\n",
    "plt.xlabel('Epochs')\n",
    "\n",
    "plt.legend()\n",
    "\n",
    "plt.show()\n",
    "\n",
    "#plot loss of model1\n",
    "plt.plot(history.history['loss'])\n",
    "plt.plot(history.history['val_loss'])\n",
    "plt.title(' VGG Model Loss')\n",
    "plt.ylabel('Loss')\n",
    "plt.xlabel('Epoch')\n",
    "plt.legend(['train', 'validation'], loc='upper left')\n",
    "plt.show()\n"
   ]
  },
  {
   "cell_type": "code",
   "execution_count": 81,
   "metadata": {
    "colab": {
     "base_uri": "https://localhost:8080/",
     "height": 546
    },
    "id": "mdqo7WxkbjZX",
    "outputId": "bcab0569-4079-47fe-cb9e-20a9a879a1b9"
   },
   "outputs": [
    {
     "name": "stdout",
     "output_type": "stream",
     "text": [
      "4/4 [==============================] - 0s 5ms/step\n",
      "              precision    recall  f1-score   support\n",
      "\n",
      "           0       0.57      0.38      0.45        32\n",
      "           1       0.38      0.56      0.46        32\n",
      "           2       0.41      0.41      0.41        32\n",
      "           3       0.71      0.62      0.67        32\n",
      "\n",
      "    accuracy                           0.49       128\n",
      "   macro avg       0.52      0.49      0.50       128\n",
      "weighted avg       0.52      0.49      0.50       128\n",
      "\n"
     ]
    },
    {
     "data": {
      "image/png": "[encoded data removed]",
      "text/plain": [
       "<Figure size 576x360 with 2 Axes>"
      ]
     },
     "metadata": {
      "needs_background": "light"
     },
     "output_type": "display_data"
    }
   ],
   "source": [
    "from sklearn.metrics import classification_report\n",
    "from sklearn.metrics import confusion_matrix\n",
    "test_images, test_labels = next(test_set)\n",
    "\n",
    "# Write the name of your chosen model in the blank\n",
    "pred = vggmodel.predict(test_images)\n",
    "pred = np.argmax(pred, axis = 1) \n",
    "y_true = np.argmax(test_labels, axis = 1)\n",
    "\n",
    "# Printing the classification report\n",
    "print(classification_report(y_true, pred))\n",
    "\n",
    "# Plotting the heatmap using confusion matrix\n",
    "cm = confusion_matrix(y_true, pred)\n",
    "plt.figure(figsize = (8, 5))\n",
    "sns.heatmap(cm, annot = True,  fmt = '.0f', xticklabels = ['happy', 'sad', 'neutral', 'surprise'], yticklabels = ['happy', 'sad', 'neutral', 'surprise'])\n",
    "plt.ylabel('Actual')\n",
    "plt.xlabel('Predicted')\n",
    "plt.show()"
   ]
  },
  {
   "cell_type": "markdown",
   "metadata": {
    "id": "YuTi6OAx8q_r"
   },
   "source": [
    "**Observations and Insights:\n",
    "-  The training accuracy fairly smoothly trends up and starts to flatten out around 15 epochs.\n",
    "- The validation accuracy follows closely but is much noisier and around 20 epochs reaches a little under 50% accuracy. \n",
    "- this accuracy is worse than the CNN models without transfer learning, and is not an acceptable accuracy to use.  \n",
    "- The validation accuracy is slightly above the Training accuracy meaning the model is generalizing well. \n",
    "- The model loss is smoothed out by dropping the learning rate.\n",
    "- The validation loss remains below the the training loss, \n",
    "- which again shows the model is generalizing well and not over fitting.\n",
    "- The confusion matrix shows that the model is confusing happy with both sad and neutral, 1/3 of the time each\n",
    "- sad is confused 1/6 of the time with each other emotion. \n",
    "- Neutral is misclassified as sad as much as it is properly classified\n",
    "- this is again shows the model is struggling to find a difference in the features on neutral and sad, which are very similar according do data analysis in milestone 1.\n",
    "- The model does the best on surprised, where it misclasifies 1/3 of the time. \n",
    "our recall for happy is very low at 0.38 and precision is not great at 0.57.\n",
    "- the F1 score is only 0.45 which again is not great\n",
    "- surprised has the best precision recall and f1 score by a lot.  \n",
    "- I believe the reason this model performs so poorly is because the vgg16 is not trained on faces, but object recognition. \n",
    "- the weights do not translate well into facial emotion recognition.\n",
    "**"
   ]
  },
  {
   "cell_type": "code",
   "execution_count": 61,
   "metadata": {
    "id": "64xWKOjUj_-m"
   },
   "outputs": [],
   "source": [
    "from tensorflow.keras import backend\n",
    "\n",
    "backend.clear_session()"
   ]
  },
  {
   "cell_type": "code",
   "execution_count": 62,
   "metadata": {
    "id": "dgAEobIoj7RS"
   },
   "outputs": [],
   "source": [
    "# Fixing the seed for random number generators\n",
    "\n",
    "np.random.seed(42)\n",
    "\n",
    "import random\n",
    "\n",
    "random.seed(42)\n",
    "\n",
    "tf.random.set_seed(42)"
   ]
  },
  {
   "cell_type": "markdown",
   "metadata": {
    "id": "E0Mew4Cc7u7k"
   },
   "source": [
    "## **ResNet V2 Model**"
   ]
  },
  {
   "cell_type": "code",
   "execution_count": 68,
   "metadata": {
    "id": "568a5c9a",
    "scrolled": false
   },
   "outputs": [],
   "source": [
    "import tensorflow as tf\n",
    "import tensorflow.keras.applications as ap\n",
    "from tensorflow.keras import Model\n",
    "\n",
    "Resnet = ap.ResNet101(include_top = False, weights = \"imagenet\", input_shape=(48,48,3))\n"
   ]
  },
  {
   "cell_type": "markdown",
   "metadata": {
    "id": "ay4RedCQlL4O"
   },
   "source": [
    "### **Model Building**"
   ]
  },
  {
   "cell_type": "code",
   "execution_count": 69,
   "metadata": {
    "id": "911d3335"
   },
   "outputs": [],
   "source": [
    "transfer_layer_Resnet = Resnet.get_layer('conv5_block3_add')\n",
    "Resnet.trainable=False\n",
    "\n",
    "# Add classification layers on top of it\n",
    "\n",
    "# Flattenning the output from the 3rd block of the VGG16 model\n",
    "x = Flatten()(transfer_layer_Resnet.output)\n",
    "x = Dense(512, activation = 'relu')(x)\n",
    "x = Dense(256, activation = 'relu')(x)\n",
    "x = Dropout(0.2)(x)\n",
    "\n",
    "# Add a Dense layer with 256 neurons\n",
    "x = Dense(256, activation = 'relu')(x)\n",
    "x = Dense(256, activation = 'relu')(x)\n",
    "# Add a Dense Layer with 128 neurons\n",
    "x = Dense(128, activation = 'relu')(x)\n",
    "\n",
    "# Add a DropOut layer with Drop out ratio of 0.3\n",
    "x = Dropout(0.3)(x)\n",
    "\n",
    "# Add a Dense Layer with 64 neurons\n",
    "x = Dense(64, activation = 'relu')(x)\n",
    "x = Dense(32, activation = 'relu')(x)\n",
    "x = Dense(64, activation = 'relu')(x)\n",
    "# Add a Batch Normalization layer\n",
    "x = BatchNormalization()(x)\n",
    "\n",
    "# Add the final dense layer with 4 neurons and use a 'softmax' activation\n",
    "pred = Dense(4, activation = 'softmax')(x)\n",
    "\n",
    "resnetmodel = Model(Resnet.input, pred) # Initializing the model"
   ]
  },
  {
   "cell_type": "markdown",
   "metadata": {
    "id": "Tmtcd1ZElpJy"
   },
   "source": [
    "### **Compiling and Training the Model**"
   ]
  },
  {
   "cell_type": "code",
   "execution_count": 70,
   "metadata": {
    "id": "fe959789"
   },
   "outputs": [],
   "source": [
    "from keras.callbacks import ModelCheckpoint, EarlyStopping, ReduceLROnPlateau\n",
    "\n",
    "checkpoint = ModelCheckpoint(\"./Resnetmodel.h5\", monitor = 'val_acc', verbose = 1, save_best_only = True, mode = 'max')\n",
    "\n",
    "early_stopping = EarlyStopping(monitor = 'val_loss',\n",
    "                          min_delta = 0,\n",
    "                          patience = 3,\n",
    "                          verbose = 1,\n",
    "                          restore_best_weights = True\n",
    "                          )  # Write your code here. You may play around with the hyperparameters if you wish.\n",
    "\n",
    "\n",
    "reduce_learningrate = ReduceLROnPlateau(monitor = 'val_loss',\n",
    "                              factor = 0.2,\n",
    "                              patience = 3,\n",
    "                              verbose = 1,\n",
    "                              min_delta = 0.00001) # Write your code here. You may play around with the hyperparameters if you wish.\n",
    "\n",
    "\n",
    "callbacks_list = [early_stopping, checkpoint, reduce_learningrate]\n",
    "\n",
    "epochs = 10\n",
    "\n"
   ]
  },
  {
   "cell_type": "code",
   "execution_count": 71,
   "metadata": {
    "id": "641VUEtvGaLW"
   },
   "outputs": [],
   "source": [
    "optimizer = tf.keras.optimizers.Adam(0.0001)\n",
    "resnetmodel.compile(loss = 'categorical_crossentropy', optimizer = optimizer, metrics = ['accuracy'])"
   ]
  },
  {
   "cell_type": "code",
   "execution_count": 72,
   "metadata": {
    "colab": {
     "base_uri": "https://localhost:8080/"
    },
    "id": "mBZRmTFLIRtS",
    "outputId": "b1d64d25-4b47-4b7e-bf98-72d3e30fe8ad"
   },
   "outputs": [
    {
     "name": "stdout",
     "output_type": "stream",
     "text": [
      "Epoch 1/10\n",
      "473/473 [==============================] - 33s 57ms/step - loss: 1.5057 - accuracy: 0.2541 - val_loss: 1.3848 - val_accuracy: 0.2443\n",
      "Epoch 2/10\n",
      "473/473 [==============================] - 26s 55ms/step - loss: 1.4294 - accuracy: 0.2578 - val_loss: 1.4099 - val_accuracy: 0.2443\n",
      "Epoch 3/10\n",
      "473/473 [==============================] - 25s 54ms/step - loss: 1.4023 - accuracy: 0.2567 - val_loss: 1.4102 - val_accuracy: 0.2443\n",
      "Epoch 4/10\n",
      "473/473 [==============================] - 25s 54ms/step - loss: 1.3937 - accuracy: 0.2544 - val_loss: 1.3817 - val_accuracy: 0.2289\n",
      "Epoch 5/10\n",
      "473/473 [==============================] - 25s 54ms/step - loss: 1.3921 - accuracy: 0.2673 - val_loss: 1.3800 - val_accuracy: 0.2289\n",
      "Epoch 6/10\n",
      "473/473 [==============================] - 25s 53ms/step - loss: 1.3896 - accuracy: 0.2659 - val_loss: 1.3820 - val_accuracy: 0.2289\n",
      "Epoch 7/10\n",
      "473/473 [==============================] - 25s 53ms/step - loss: 1.3874 - accuracy: 0.2673 - val_loss: 1.3796 - val_accuracy: 0.2443\n",
      "Epoch 8/10\n",
      "473/473 [==============================] - 25s 53ms/step - loss: 1.3858 - accuracy: 0.2703 - val_loss: 1.3676 - val_accuracy: 0.2401\n",
      "Epoch 9/10\n",
      "473/473 [==============================] - 25s 53ms/step - loss: 1.3869 - accuracy: 0.2629 - val_loss: 1.3629 - val_accuracy: 0.3667\n",
      "Epoch 10/10\n",
      "473/473 [==============================] - 25s 53ms/step - loss: 1.3857 - accuracy: 0.2655 - val_loss: 1.3617 - val_accuracy: 0.3667\n"
     ]
    }
   ],
   "source": [
    "history1 = resnetmodel.fit(train_set, validation_data = validation_set, epochs = 10)\n"
   ]
  },
  {
   "cell_type": "markdown",
   "metadata": {
    "id": "McHEzBlhxw39"
   },
   "source": [
    "### **Evaluating the ResNet Model**"
   ]
  },
  {
   "cell_type": "code",
   "execution_count": 73,
   "metadata": {
    "colab": {
     "base_uri": "https://localhost:8080/",
     "height": 791
    },
    "id": "IEl6IQf0xwci",
    "outputId": "e79e2cc1-8113-499c-efe8-adabb7e302d8"
   },
   "outputs": [
    {
     "data": {
      "image/png": "[encoded data removed]",
      "text/plain": [
       "<Figure size 576x576 with 1 Axes>"
      ]
     },
     "metadata": {
      "needs_background": "light"
     },
     "output_type": "display_data"
    },
    {
     "data": {
      "image/png": "[encoded data removed]",
      "text/plain": [
       "<Figure size 432x288 with 1 Axes>"
      ]
     },
     "metadata": {
      "needs_background": "light"
     },
     "output_type": "display_data"
    }
   ],
   "source": [
    "# Write your code to evaluate model performance on the test set\n",
    "dict_hist = history1.history\n",
    "\n",
    "list_ep = [i for i in range(1, 11)]\n",
    "\n",
    "plt.figure(figsize = (8, 8))\n",
    "\n",
    "\n",
    "plt.plot(list_ep, dict_hist['accuracy'], ls = '--', label = 'accuracy')\n",
    "\n",
    "plt.plot(list_ep, dict_hist['val_accuracy'], ls = '--', label = 'val_accuracy')\n",
    "\n",
    "plt.title('Resnet Model Accuracy')\n",
    "\n",
    "plt.ylabel('Accuracy')\n",
    "\n",
    "plt.xlabel('Epochs')\n",
    "\n",
    "plt.legend()\n",
    "\n",
    "plt.show()\n",
    "\n",
    "#plot loss of model1\n",
    "plt.plot(history1.history['loss'])\n",
    "plt.plot(history1.history['val_loss'])\n",
    "plt.title('Resnet Model Loss')\n",
    "plt.ylabel('Loss')\n",
    "plt.xlabel('Epoch')\n",
    "plt.legend(['train', 'validation'], loc='upper left')\n",
    "plt.show()"
   ]
  },
  {
   "cell_type": "code",
   "execution_count": 74,
   "metadata": {
    "colab": {
     "base_uri": "https://localhost:8080/",
     "height": 662
    },
    "id": "OgsXLRyAbxS2",
    "outputId": "6ba0f96f-4787-4c55-8794-a967b9b43fc4"
   },
   "outputs": [
    {
     "name": "stdout",
     "output_type": "stream",
     "text": [
      "4/4 [==============================] - 2s 16ms/step\n",
      "              precision    recall  f1-score   support\n",
      "\n",
      "           0       0.25      1.00      0.40        32\n",
      "           1       0.00      0.00      0.00        32\n",
      "           2       0.00      0.00      0.00        32\n",
      "           3       0.00      0.00      0.00        32\n",
      "\n",
      "    accuracy                           0.25       128\n",
      "   macro avg       0.06      0.25      0.10       128\n",
      "weighted avg       0.06      0.25      0.10       128\n",
      "\n"
     ]
    },
    {
     "name": "stderr",
     "output_type": "stream",
     "text": [
      "/usr/local/lib/python3.8/dist-packages/sklearn/metrics/_classification.py:1318: UndefinedMetricWarning: Precision and F-score are ill-defined and being set to 0.0 in labels with no predicted samples. Use `zero_division` parameter to control this behavior.\n",
      "  _warn_prf(average, modifier, msg_start, len(result))\n",
      "/usr/local/lib/python3.8/dist-packages/sklearn/metrics/_classification.py:1318: UndefinedMetricWarning: Precision and F-score are ill-defined and being set to 0.0 in labels with no predicted samples. Use `zero_division` parameter to control this behavior.\n",
      "  _warn_prf(average, modifier, msg_start, len(result))\n",
      "/usr/local/lib/python3.8/dist-packages/sklearn/metrics/_classification.py:1318: UndefinedMetricWarning: Precision and F-score are ill-defined and being set to 0.0 in labels with no predicted samples. Use `zero_division` parameter to control this behavior.\n",
      "  _warn_prf(average, modifier, msg_start, len(result))\n"
     ]
    },
    {
     "data": {
      "image/png": "[encoded data removed]",
      "text/plain": [
       "<Figure size 576x360 with 2 Axes>"
      ]
     },
     "metadata": {
      "needs_background": "light"
     },
     "output_type": "display_data"
    }
   ],
   "source": [
    "from sklearn.metrics import classification_report\n",
    "from sklearn.metrics import confusion_matrix\n",
    "test_images, test_labels = next(test_set)\n",
    "\n",
    "# Write the name of your chosen model in the blank\n",
    "pred = resnetmodel.predict(test_images)\n",
    "pred = np.argmax(pred, axis = 1) \n",
    "y_true = np.argmax(test_labels, axis = 1)\n",
    "\n",
    "# Printing the classification report\n",
    "print(classification_report(y_true, pred))\n",
    "\n",
    "# Plotting the heatmap using confusion matrix\n",
    "cm = confusion_matrix(y_true, pred)\n",
    "plt.figure(figsize = (8, 5))\n",
    "sns.heatmap(cm, annot = True,  fmt = '.0f', xticklabels = ['happy', 'sad', 'neutral', 'surprise'], yticklabels = ['happy', 'sad', 'neutral', 'surprise'])\n",
    "plt.ylabel('Actual')\n",
    "plt.xlabel('Predicted')\n",
    "plt.title('Resnet Model confusion matrix')\n",
    "plt.show()"
   ]
  },
  {
   "cell_type": "markdown",
   "metadata": {
    "id": "3htKZRdomiOY"
   },
   "source": [
    "**Observations and Insights:\n",
    "- The results from the resnet model are terrible\n",
    "- although the model is not over fitting, it seems to not be learning at all.\n",
    "- the Training accuracy remains around 0.25, and the validation accuracy spikes 0.367, but would shortly send back down to about 0.25 no matter the number of epochs ran. \n",
    "- After attempting to use different activations, different optimization methods, and different learning rates, I concluded that this model is just not made for facial emotional recognition. \n",
    "- The Training loss levels out after about 3 epochs and stays at 1.41 and the validaion accuracy sits at 1.375, both not good results. \n",
    "- The confusion matrix gives no insight as it places all of the test data into the happy category.\n",
    "\n",
    "**\n"
   ]
  },
  {
   "cell_type": "markdown",
   "metadata": {
    "id": "O-7oJD5xpIyL"
   },
   "source": [
    "Running the resnet model and retraining the weights "
   ]
  },
  {
   "cell_type": "code",
   "execution_count": 84,
   "metadata": {
    "id": "AOxNEZ39pHQ0"
   },
   "outputs": [],
   "source": [
    "from tensorflow.keras import backend\n",
    "\n",
    "backend.clear_session()"
   ]
  },
  {
   "cell_type": "code",
   "execution_count": 85,
   "metadata": {
    "id": "jlb2GeVLpHQ1"
   },
   "outputs": [],
   "source": [
    "# Fixing the seed for random number generators\n",
    "\n",
    "np.random.seed(42)\n",
    "\n",
    "import random\n",
    "\n",
    "random.seed(42)\n",
    "\n",
    "tf.random.set_seed(42)"
   ]
  },
  {
   "cell_type": "code",
   "execution_count": 86,
   "metadata": {
    "id": "xYjRbyM1pHQ1",
    "scrolled": false
   },
   "outputs": [],
   "source": [
    "import tensorflow as tf\n",
    "import tensorflow.keras.applications as ap\n",
    "from tensorflow.keras import Model\n",
    "\n",
    "Resnet = ap.ResNet101(include_top = False, weights = \"imagenet\", input_shape=(48,48,3))\n"
   ]
  },
  {
   "cell_type": "code",
   "execution_count": 87,
   "metadata": {
    "id": "nH4zwzGkpHQ1"
   },
   "outputs": [],
   "source": [
    "transfer_layer_Resnet = Resnet.get_layer('conv5_block3_add')\n",
    "Resnet.trainable=True\n",
    "\n",
    "\n",
    "# Flattenning the output from the 3rd block of the VGG16 model\n",
    "x = Flatten()(transfer_layer_Resnet.output)\n",
    "x = Dense(512, activation = 'relu')(x)\n",
    "x = Dense(256, activation = 'relu')(x)\n",
    "x = Dropout(0.2)(x)\n",
    "\n",
    "x = Dense(256, activation = 'relu')(x)\n",
    "x = Dense(256, activation = 'relu')(x)\n",
    "# Add a Dense Layer with 128 neurons\n",
    "x = Dense(128, activation = 'relu')(x)\n",
    "\n",
    "\n",
    "x = Dropout(0.3)(x)\n",
    "\n",
    "\n",
    "x = Dense(64, activation = 'relu')(x)\n",
    "x = Dense(32, activation = 'relu')(x)\n",
    "x = Dense(64, activation = 'relu')(x)\n",
    "x = Dropout(0.2)(x)\n",
    "\n",
    "x = BatchNormalization()(x)\n",
    "\n",
    "\n",
    "pred = Dense(4, activation = 'softmax')(x)\n",
    "\n",
    "resnetmodel2 = Model(Resnet.input, pred) # Initializing the model"
   ]
  },
  {
   "cell_type": "code",
   "execution_count": 88,
   "metadata": {
    "id": "Kt499QCBpHQ1"
   },
   "outputs": [],
   "source": [
    "from keras.callbacks import ModelCheckpoint, EarlyStopping, ReduceLROnPlateau\n",
    "\n",
    "checkpoint = ModelCheckpoint(\"./Resnetmodel.h5\", monitor = 'val_acc', verbose = 1, save_best_only = True, mode = 'max')\n",
    "\n",
    "early_stopping = EarlyStopping(monitor = 'val_loss',\n",
    "                          min_delta = 0,\n",
    "                          patience = 3,\n",
    "                          verbose = 1,\n",
    "                          restore_best_weights = True\n",
    "                          )  \n",
    "\n",
    "\n",
    "reduce_learningrate = ReduceLROnPlateau(monitor = 'val_loss',\n",
    "                              factor = 0.2,\n",
    "                              patience = 3,\n",
    "                              verbose = 1,\n",
    "                              min_delta = 0.00001) \n",
    "\n",
    "callbacks_list = [early_stopping, checkpoint, reduce_learningrate]\n",
    "\n",
    "epochs = 10\n",
    "\n"
   ]
  },
  {
   "cell_type": "code",
   "execution_count": 89,
   "metadata": {
    "id": "Jihs2unPpHQ1"
   },
   "outputs": [],
   "source": [
    "optimizer = tf.keras.optimizers.Adam(0.0001)\n",
    "resnetmodel2.compile(loss = 'categorical_crossentropy', optimizer = optimizer, metrics = ['accuracy'])"
   ]
  },
  {
   "cell_type": "code",
   "execution_count": 90,
   "metadata": {
    "colab": {
     "base_uri": "https://localhost:8080/"
    },
    "id": "tdrtNDQ9pHQ1",
    "outputId": "4a14c192-d532-4904-87b4-aed0220b89f3"
   },
   "outputs": [
    {
     "name": "stdout",
     "output_type": "stream",
     "text": [
      "Epoch 1/10\n",
      "473/473 [==============================] - 48s 78ms/step - loss: 1.5891 - accuracy: 0.2741 - val_loss: 2.3424 - val_accuracy: 0.2403\n",
      "Epoch 2/10\n",
      "473/473 [==============================] - 35s 74ms/step - loss: 1.3228 - accuracy: 0.4193 - val_loss: 1.7165 - val_accuracy: 0.5029\n",
      "Epoch 3/10\n",
      "473/473 [==============================] - 35s 73ms/step - loss: 1.1037 - accuracy: 0.5106 - val_loss: 0.9409 - val_accuracy: 0.5712\n",
      "Epoch 4/10\n",
      "473/473 [==============================] - 35s 74ms/step - loss: 0.9820 - accuracy: 0.5536 - val_loss: 0.8916 - val_accuracy: 0.6363\n",
      "Epoch 5/10\n",
      "473/473 [==============================] - 35s 73ms/step - loss: 0.8936 - accuracy: 0.6178 - val_loss: 0.8871 - val_accuracy: 0.6466\n",
      "Epoch 6/10\n",
      "473/473 [==============================] - 35s 74ms/step - loss: 0.8228 - accuracy: 0.6672 - val_loss: 0.8122 - val_accuracy: 0.6723\n",
      "Epoch 7/10\n",
      "473/473 [==============================] - 35s 74ms/step - loss: 0.7725 - accuracy: 0.6932 - val_loss: 0.7655 - val_accuracy: 0.7050\n",
      "Epoch 8/10\n",
      "473/473 [==============================] - 35s 74ms/step - loss: 0.7445 - accuracy: 0.7106 - val_loss: 0.7736 - val_accuracy: 0.7075\n",
      "Epoch 9/10\n",
      "473/473 [==============================] - 35s 74ms/step - loss: 0.7119 - accuracy: 0.7247 - val_loss: 0.7447 - val_accuracy: 0.6944\n",
      "Epoch 10/10\n",
      "473/473 [==============================] - 35s 74ms/step - loss: 0.6777 - accuracy: 0.7377 - val_loss: 0.7100 - val_accuracy: 0.7237\n"
     ]
    }
   ],
   "source": [
    "historyRes = resnetmodel2.fit(train_set, validation_data = validation_set, epochs = 10)\n"
   ]
  },
  {
   "cell_type": "code",
   "execution_count": 118,
   "metadata": {
    "colab": {
     "base_uri": "https://localhost:8080/",
     "height": 791
    },
    "id": "K9YSMWYHrPZK",
    "outputId": "97f2b38a-24ff-4aa8-91a5-f00a8ec3362a"
   },
   "outputs": [
    {
     "data": {
      "image/png": "[encoded data removed]",
      "text/plain": [
       "<Figure size 576x576 with 1 Axes>"
      ]
     },
     "metadata": {
      "needs_background": "light"
     },
     "output_type": "display_data"
    },
    {
     "data": {
      "image/png": "[encoded data removed]",
      "text/plain": [
       "<Figure size 432x288 with 1 Axes>"
      ]
     },
     "metadata": {
      "needs_background": "light"
     },
     "output_type": "display_data"
    }
   ],
   "source": [
    "dict_hist = historyRes.history\n",
    "\n",
    "list_ep = [i for i in range(1, 11)]\n",
    "\n",
    "plt.figure(figsize = (8, 8))\n",
    "\n",
    "\n",
    "plt.plot(list_ep, dict_hist['accuracy'], ls = '--', label = 'accuracy')\n",
    "\n",
    "plt.plot(list_ep, dict_hist['val_accuracy'], ls = '--', label = 'val_accuracy')\n",
    "\n",
    "plt.title('Resnet (re-trained weights) Model Accuracy')\n",
    "\n",
    "plt.ylabel('Accuracy')\n",
    "\n",
    "plt.xlabel('Epochs')\n",
    "\n",
    "plt.legend()\n",
    "\n",
    "plt.show()\n",
    "\n",
    "#plot loss of model1\n",
    "plt.plot(historyRes.history['loss'])\n",
    "plt.plot(historyRes.history['val_loss'])\n",
    "plt.title(' Resnet (re-trained weights) Model Loss')\n",
    "plt.ylabel('Loss')\n",
    "plt.xlabel('Epoch')\n",
    "plt.legend(['train', 'validation'], loc='upper left')\n",
    "plt.show()"
   ]
  },
  {
   "cell_type": "code",
   "execution_count": 19,
   "metadata": {
    "colab": {
     "base_uri": "https://localhost:8080/",
     "height": 542
    },
    "id": "urf3OhH_rPZK",
    "outputId": "2cec9bde-05c0-4a57-ae76-285e6f4fa73d"
   },
   "outputs": [
    {
     "name": "stdout",
     "output_type": "stream",
     "text": [
      "4/4 [==============================] - 2s 16ms/step\n",
      "              precision    recall  f1-score   support\n",
      "\n",
      "           0       0.93      0.81      0.87        32\n",
      "           1       0.79      0.69      0.73        32\n",
      "           2       0.65      0.81      0.72        32\n",
      "           3       0.91      0.91      0.91        32\n",
      "\n",
      "    accuracy                           0.80       128\n",
      "   macro avg       0.82      0.80      0.81       128\n",
      "weighted avg       0.82      0.80      0.81       128\n",
      "\n"
     ]
    },
    {
     "data": {
      "image/png": "[encoded data removed]",
      "text/plain": [
       "<Figure size 576x360 with 2 Axes>"
      ]
     },
     "metadata": {
      "needs_background": "light"
     },
     "output_type": "display_data"
    }
   ],
   "source": [
    "from sklearn.metrics import classification_report\n",
    "from sklearn.metrics import confusion_matrix\n",
    "test_images, test_labels = next(test_set)\n",
    "\n",
    "pred = resnetmodel2.predict(test_images)\n",
    "pred = np.argmax(pred, axis = 1) \n",
    "y_true = np.argmax(test_labels, axis = 1)\n",
    "\n",
    "print(classification_report(y_true, pred))\n",
    "\n",
    "cm = confusion_matrix(y_true, pred)\n",
    "plt.figure(figsize = (8, 5))\n",
    "sns.heatmap(cm, annot = True,  fmt = '.0f', xticklabels = ['happy', 'sad', 'neutral', 'surprise'], yticklabels = ['happy', 'sad', 'neutral', 'surprise'])\n",
    "plt.ylabel('Actual')\n",
    "plt.xlabel('Predicted')\n",
    "plt.show()"
   ]
  },
  {
   "cell_type": "markdown",
   "metadata": {
    "id": "FmnDG4ZbncoR"
   },
   "source": [
    "## **EfficientNet Model**"
   ]
  },
  {
   "cell_type": "markdown",
   "metadata": {
    "id": "X4-Psoe0t62I"
   },
   "source": [
    "**Observations\n",
    "- When retraining the weights on the resnet model, you get significantly better results. \n",
    "- The Accuracy gets up to 80% on the training data, and just over 70% on the validation data. \n",
    "- There is a little over fitting in this model.\n",
    "- this is shown as the Training data accuracy supercedes the validation accuracy, and the validation loss goes up past the training loss. \n",
    "- this model learns significantly better than the model that used the pretrained resnet weights. \n",
    "- the loss gets down to about 0.7 on the validation data and to 0.6 on the training data\n",
    "- The f1 score increases greatly in every category along with precision and recall.\n",
    "- suprised has the best precision and recall fallowed by happy then sad then neutral.\n",
    "- happy is categorized correctly 81% of the time\n",
    "- Sad is still misclassified as neutral 33% of the time which is not better than the origional cnn models\n",
    "- neutral is classified correctly 81% of the time as well, which is significantly better than the previous CNN models\n",
    "- Surprised is correctly classified 90% of the time correctly which is also better than previous CNN models.\n",
    "- \n",
    "\n",
    "\n",
    "\n",
    "\n",
    "**"
   ]
  },
  {
   "cell_type": "code",
   "execution_count": null,
   "metadata": {
    "id": "skO-w1HFmEmy"
   },
   "outputs": [],
   "source": [
    "from tensorflow.keras import backend\n",
    "\n",
    "backend.clear_session()\n",
    "\n",
    "\n"
   ]
  },
  {
   "cell_type": "code",
   "execution_count": 15,
   "metadata": {
    "id": "MRJVMZL-mNXF"
   },
   "outputs": [],
   "source": [
    "np.random.seed(18)\n",
    "\n",
    "import random\n",
    "\n",
    "random.seed(18)\n",
    "\n",
    "tf.random.set_seed(18)"
   ]
  },
  {
   "cell_type": "code",
   "execution_count": 77,
   "metadata": {
    "colab": {
     "base_uri": "https://localhost:8080/"
    },
    "id": "613c7a71",
    "outputId": "1a175b0b-3941-4c22-8c9a-861172af2b9f"
   },
   "outputs": [
    {
     "name": "stdout",
     "output_type": "stream",
     "text": [
      "Downloading data from https://storage.googleapis.com/tensorflow/keras-applications/efficientnet_v2/efficientnetv2-b2_notop.h5\n",
      "35839040/35839040 [==============================] - 0s 0us/step\n"
     ]
    }
   ],
   "source": [
    "import tensorflow as tf\n",
    "import tensorflow.keras.applications as ap\n",
    "from tensorflow.keras import Model\n",
    "EfficientNet = ap.EfficientNetV2B2(include_top=False, weights=\"imagenet\", input_shape= (48, 48, 3))"
   ]
  },
  {
   "cell_type": "markdown",
   "metadata": {
    "id": "6kDNE8pVngqC"
   },
   "source": [
    "### **Model Building**"
   ]
  },
  {
   "cell_type": "code",
   "execution_count": 78,
   "metadata": {
    "id": "2b27a6e1"
   },
   "outputs": [],
   "source": [
    "transfer_layer_EfficientNet = EfficientNet.get_layer('block6e_expand_activation')\n",
    "EfficientNet.trainable = False\n",
    "\n",
    "x = Flatten()(transfer_layer_EfficientNet.output)\n",
    "\n",
    "x = Dense(1024)(x)\n",
    "x = Activation(LeakyReLU(0.1))(x)\n",
    "x = Dense(512)(x)\n",
    "x = Activation(LeakyReLU(0.1))(x)\n",
    "x = Dense(256)(x)\n",
    "x = Activation(LeakyReLU(0.1))(x)\n",
    "x = Dense(128)(x)\n",
    "x = Activation(LeakyReLU(0.1))(x)\n",
    "x = Dropout(0.2)(x)\n",
    "x = Dense(64)(x)\n",
    "x = Activation(LeakyReLU(0.1))(x)\n",
    "\n",
    "\n",
    "pred = Dense(4, activation='softmax')(x)\n",
    "\n",
    "Efficientnetmodel = Model(EfficientNet.input, pred)"
   ]
  },
  {
   "cell_type": "markdown",
   "metadata": {
    "id": "hVv4Df_In32Y"
   },
   "source": [
    "### **Compiling and Training the Model**"
   ]
  },
  {
   "cell_type": "code",
   "execution_count": 79,
   "metadata": {
    "id": "dc326cd3"
   },
   "outputs": [],
   "source": [
    "from keras.callbacks import ModelCheckpoint, EarlyStopping, ReduceLROnPlateau\n",
    "\n",
    "checkpoint = ModelCheckpoint(\"./Efficientnetmodel.h5\", monitor='val_acc', verbose=1, save_best_only=True, mode='max')\n",
    "\n",
    "early_stopping = EarlyStopping(monitor = 'val_loss',\n",
    "                          min_delta = 0,\n",
    "                          patience = 3,\n",
    "                          verbose = 1,\n",
    "                          restore_best_weights = True\n",
    "                          )  \n",
    "reduce_learningrate = ReduceLROnPlateau(monitor = 'val_loss',\n",
    "                              factor = 0.2,\n",
    "                              patience = 3,\n",
    "                              verbose = 1,\n",
    "                              min_delta = 0.00001)  \n",
    "\n",
    "callbacks_list = [early_stopping,checkpoint,reduce_learningrate]\n",
    "\n",
    "epochs = 20"
   ]
  },
  {
   "cell_type": "code",
   "execution_count": 80,
   "metadata": {
    "id": "U13gspW8I-e3"
   },
   "outputs": [],
   "source": [
    "optimizer = tf.keras.optimizers.Adam(0.0001)\n",
    "\n",
    "Efficientnetmodel.compile(loss = 'categorical_crossentropy', optimizer = optimizer, metrics = ['accuracy'])"
   ]
  },
  {
   "cell_type": "code",
   "execution_count": 81,
   "metadata": {
    "colab": {
     "base_uri": "https://localhost:8080/"
    },
    "id": "Doy0fkOwIew_",
    "outputId": "35bef7e9-f847-4089-be60-d68aec98d273"
   },
   "outputs": [
    {
     "name": "stdout",
     "output_type": "stream",
     "text": [
      "Epoch 1/20\n",
      "473/473 [==============================] - 32s 56ms/step - loss: 1.3891 - accuracy: 0.2604 - val_loss: 1.3827 - val_accuracy: 0.2289\n",
      "Epoch 2/20\n",
      "473/473 [==============================] - 25s 52ms/step - loss: 1.3845 - accuracy: 0.2631 - val_loss: 1.3730 - val_accuracy: 0.2443\n",
      "Epoch 3/20\n",
      "473/473 [==============================] - 25s 52ms/step - loss: 1.3836 - accuracy: 0.2638 - val_loss: 1.3712 - val_accuracy: 0.2289\n",
      "Epoch 4/20\n",
      "473/473 [==============================] - 25s 52ms/step - loss: 1.3836 - accuracy: 0.2677 - val_loss: 1.3813 - val_accuracy: 0.2289\n",
      "Epoch 5/20\n",
      "473/473 [==============================] - 25s 53ms/step - loss: 1.3832 - accuracy: 0.2638 - val_loss: 1.3713 - val_accuracy: 0.2443\n",
      "Epoch 6/20\n",
      "473/473 [==============================] - 25s 53ms/step - loss: 1.3829 - accuracy: 0.2700 - val_loss: 1.3734 - val_accuracy: 0.2289\n",
      "Epoch 7/20\n",
      "473/473 [==============================] - 25s 53ms/step - loss: 1.3825 - accuracy: 0.2602 - val_loss: 1.3691 - val_accuracy: 0.3667\n",
      "Epoch 8/20\n",
      "473/473 [==============================] - 25s 53ms/step - loss: 1.3839 - accuracy: 0.2653 - val_loss: 1.3713 - val_accuracy: 0.3667\n",
      "Epoch 9/20\n",
      "473/473 [==============================] - 25s 53ms/step - loss: 1.3826 - accuracy: 0.2686 - val_loss: 1.3811 - val_accuracy: 0.2289\n",
      "Epoch 10/20\n",
      "473/473 [==============================] - 25s 52ms/step - loss: 1.3827 - accuracy: 0.2644 - val_loss: 1.3546 - val_accuracy: 0.3667\n",
      "Epoch 11/20\n",
      "473/473 [==============================] - 25s 53ms/step - loss: 1.3829 - accuracy: 0.2542 - val_loss: 1.3765 - val_accuracy: 0.2443\n",
      "Epoch 12/20\n",
      "473/473 [==============================] - 25s 53ms/step - loss: 1.3825 - accuracy: 0.2596 - val_loss: 1.3723 - val_accuracy: 0.2443\n",
      "Epoch 13/20\n",
      "473/473 [==============================] - 25s 53ms/step - loss: 1.3832 - accuracy: 0.2623 - val_loss: 1.3643 - val_accuracy: 0.3667\n",
      "Epoch 14/20\n",
      "473/473 [==============================] - 25s 53ms/step - loss: 1.3834 - accuracy: 0.2597 - val_loss: 1.3645 - val_accuracy: 0.2443\n",
      "Epoch 15/20\n",
      "473/473 [==============================] - 25s 52ms/step - loss: 1.3830 - accuracy: 0.2692 - val_loss: 1.3716 - val_accuracy: 0.2289\n",
      "Epoch 16/20\n",
      "473/473 [==============================] - 25s 52ms/step - loss: 1.3825 - accuracy: 0.2596 - val_loss: 1.3728 - val_accuracy: 0.2443\n",
      "Epoch 17/20\n",
      "473/473 [==============================] - 25s 52ms/step - loss: 1.3827 - accuracy: 0.2573 - val_loss: 1.3721 - val_accuracy: 0.2443\n",
      "Epoch 18/20\n",
      "473/473 [==============================] - 25s 52ms/step - loss: 1.3828 - accuracy: 0.2604 - val_loss: 1.3687 - val_accuracy: 0.3643\n",
      "Epoch 19/20\n",
      "473/473 [==============================] - 25s 52ms/step - loss: 1.3823 - accuracy: 0.2626 - val_loss: 1.3704 - val_accuracy: 0.3667\n",
      "Epoch 20/20\n",
      "473/473 [==============================] - 25s 53ms/step - loss: 1.3824 - accuracy: 0.2620 - val_loss: 1.3744 - val_accuracy: 0.2289\n"
     ]
    }
   ],
   "source": [
    "history3 = Efficientnetmodel.fit(train_set, validation_data = validation_set, epochs = 20)# Write your code to fit your model. Use train_set as your training data and validation_set as your validation data. Train your model for 20 epochs."
   ]
  },
  {
   "cell_type": "markdown",
   "metadata": {
    "id": "2xjrzYpgoQnN"
   },
   "source": [
    "### **Evaluating the EfficientnetNet Model**"
   ]
  },
  {
   "cell_type": "code",
   "execution_count": 83,
   "metadata": {
    "colab": {
     "base_uri": "https://localhost:8080/",
     "height": 791
    },
    "id": "WJVFenvnoQnN",
    "outputId": "e9ac9e79-bebe-4816-e50e-96706c093062"
   },
   "outputs": [
    {
     "data": {
      "image/png": "[encoded data removed]",
      "text/plain": [
       "<Figure size 576x576 with 1 Axes>"
      ]
     },
     "metadata": {
      "needs_background": "light"
     },
     "output_type": "display_data"
    },
    {
     "data": {
      "image/png": "[encoded data removed]",
      "text/plain": [
       "<Figure size 432x288 with 1 Axes>"
      ]
     },
     "metadata": {
      "needs_background": "light"
     },
     "output_type": "display_data"
    }
   ],
   "source": [
    "dict_hist = history3.history\n",
    "\n",
    "list_ep = [i for i in range(1, 21)]\n",
    "\n",
    "plt.figure(figsize = (8, 8))\n",
    "\n",
    "\n",
    "plt.plot(list_ep, dict_hist['accuracy'], ls = '--', label = 'accuracy')\n",
    "\n",
    "plt.plot(list_ep, dict_hist['val_accuracy'], ls = '--', label = 'val_accuracy')\n",
    "\n",
    "plt.title(' Efficientnet Model Accuracy')\n",
    "\n",
    "plt.ylabel('Accuracy')\n",
    "\n",
    "plt.xlabel('Epochs')\n",
    "\n",
    "plt.legend()\n",
    "\n",
    "plt.show()\n",
    "\n",
    "#plot loss of model1\n",
    "plt.plot(history3.history['loss'])\n",
    "plt.plot(history3.history['val_loss'])\n",
    "plt.title('  Efficientnet Model Loss')\n",
    "plt.ylabel('Loss')\n",
    "plt.xlabel('Epoch')\n",
    "plt.legend(['train', 'validation'], loc='upper left')\n",
    "plt.show()"
   ]
  },
  {
   "cell_type": "code",
   "execution_count": null,
   "metadata": {
    "id": "dD3hv3ycb6yA"
   },
   "outputs": [],
   "source": [
    "from sklearn.metrics import classification_report\n",
    "from sklearn.metrics import confusion_matrix\n",
    "test_set = datagen_test.flow_from_directory(folder_path + \"test\",\n",
    "                                                              target_size = (img_size,img_size),\n",
    "                                                              color_mode = 'grayscale',\n",
    "                                                              batch_size = 128,\n",
    "                                                              class_mode = 'categorical',\n",
    "                                                              classes = ['happy', 'sad', 'neutral', 'surprise'],\n",
    "                                                              shuffle = True) \n",
    "\n",
    "test_images, test_labels = next(test_set)\n",
    "\n",
    "pred = Efficientnetmodel.predict(test_images)\n",
    "pred = np.argmax(pred, axis = 1) \n",
    "y_true = np.argmax(test_labels, axis = 1)\n",
    "\n",
    "print(classification_report(y_true, pred))\n",
    "\n",
    "cm = confusion_matrix(y_true, pred)\n",
    "plt.figure(figsize = (8, 5))\n",
    "sns.heatmap(cm, annot = True,  fmt = '.0f', xticklabels = ['happy', 'sad', 'neutral', 'surprise'], yticklabels = ['happy', 'sad', 'neutral', 'surprise'])\n",
    "plt.ylabel('Actual')\n",
    "plt.xlabel('Predicted')\n",
    "plt.title('  Efficientnet Confusion Matrix')\n",
    "plt.show()"
   ]
  },
  {
   "cell_type": "markdown",
   "metadata": {
    "id": "kWlk14FOoQnN"
   },
   "source": [
    "**Observations and Insights:\n",
    "- The performance of the Efficientnet model is once again horrible\n",
    "- The validation accuracy reaches 0.367 at 7, 10, 12, and 17, epochs then immediatly drops significantly.\n",
    "- the training accuracy remains constant around 0.27\n",
    "- The loss, for training data is 1.384 consistently and the loss for validation accuracy is 1.372\n",
    "- this shows that this model is pretty much not learning at all.\n",
    "- I believe this is because the efficientnet model was made for object identification so the weights do not transfer well.\n",
    "- Looking at the confusion matrix gives no further information as they are all once again classified as happy.\n",
    "- After adding and removing layers, messing with the learning rate, changing activation types, and learning rate, I could not get the accuracy above 0.367\n",
    "- Overall the transfer learning achitectures were bad. The only one that came close to doing what it needed to was the vgg16, even still it did not do nearly as well as the CNNs in milestone 1. I am not satisfied with these accuracies. \n",
    "- I do not think the issue lies within the colormode\n",
    "- The issue is that the transfer weights were trained on very different data.\n",
    "\n",
    "\n",
    "**\n",
    "\n"
   ]
  },
  {
   "cell_type": "markdown",
   "metadata": {
    "id": "-EH3atQP8q_v"
   },
   "source": [
    "Now that we have tried multiple pre-trained models, let's build a complex CNN architecture and see if we can get better performance."
   ]
  },
  {
   "cell_type": "markdown",
   "metadata": {
    "id": "ejGfyYSbtx-F"
   },
   "source": [
    "## **Creating our Data Loaders**\n",
    "\n",
    "In this section, we are creating data loaders which we will use as inputs to the more Complicated Convolutional Neural Network. We will go ahead with color_mode = 'grayscale'."
   ]
  },
  {
   "cell_type": "code",
   "execution_count": 32,
   "metadata": {
    "colab": {
     "base_uri": "https://localhost:8080/"
    },
    "id": "xj1hM5_ttx-F",
    "outputId": "fb08b2bb-3ef4-4e07-aaec-2ccd6f62625d"
   },
   "outputs": [
    {
     "name": "stdout",
     "output_type": "stream",
     "text": [
      "Found 15109 images belonging to 4 classes.\n",
      "Found 4977 images belonging to 4 classes.\n",
      "Found 128 images belonging to 4 classes.\n"
     ]
    }
   ],
   "source": [
    "batch_size  = 32\n",
    "img_size = 48\n",
    "\n",
    "datagen_train = ImageDataGenerator(horizontal_flip = True,\n",
    "                                    brightness_range = (0., 2.),\n",
    "                                    rescale = 1./255,\n",
    "                                    shear_range = 0.3)\n",
    "\n",
    "train_set = datagen_train.flow_from_directory(folder_path + \"train\",\n",
    "                                              target_size = (img_size, img_size),\n",
    "                                              color_mode = 'grayscale',\n",
    "                                              batch_size = batch_size,\n",
    "                                              class_mode = 'categorical',\n",
    "                                              classes = ['happy', 'sad', 'neutral', 'surprise'],\n",
    "                                              shuffle = True)\n",
    "\n",
    "\n",
    "datagen_validation = ImageDataGenerator(horizontal_flip = True,\n",
    "                                    brightness_range = (0., 2.),\n",
    "                                    rescale = 1./255,\n",
    "                                    shear_range = 0.3)\n",
    "\n",
    "validation_set = datagen_train.flow_from_directory(folder_path + \"validation\",\n",
    "                                              target_size = (img_size, img_size),\n",
    "                                              color_mode = 'grayscale',\n",
    "                                              batch_size = batch_size,\n",
    "                                              class_mode = 'categorical',\n",
    "                                              classes = ['happy', 'sad', 'neutral', 'surprise'],\n",
    "                                              shuffle = True)\n",
    "\n",
    "datagen_test = ImageDataGenerator(horizontal_flip = True,\n",
    "                                    brightness_range = (0., 2.),\n",
    "                                    rescale = 1./255,\n",
    "                                    shear_range = 0.3)\n",
    "\n",
    "test_set = datagen_train.flow_from_directory(folder_path + \"test\",\n",
    "                                              target_size = (img_size, img_size),\n",
    "                                              color_mode = 'grayscale',\n",
    "                                              batch_size = batch_size,\n",
    "                                              class_mode = 'categorical',\n",
    "                                              classes = ['happy', 'sad', 'neutral', 'surprise'],\n",
    "                                              shuffle = True)\n"
   ]
  },
  {
   "cell_type": "markdown",
   "metadata": {
    "id": "Ft5U6f1Wie2R"
   },
   "source": [
    "### **Model Building**"
   ]
  },
  {
   "cell_type": "code",
   "execution_count": 33,
   "metadata": {
    "id": "C29UmKqBweuk"
   },
   "outputs": [],
   "source": [
    "from tensorflow.keras import backend\n",
    "\n",
    "backend.clear_session()"
   ]
  },
  {
   "cell_type": "code",
   "execution_count": 34,
   "metadata": {
    "id": "6PnXw1Gxweuk"
   },
   "outputs": [],
   "source": [
    "# Fixing the seed for random number generators\n",
    "\n",
    "np.random.seed(42)\n",
    "\n",
    "import random\n",
    "\n",
    "random.seed(42)\n",
    "\n",
    "tf.random.set_seed(42)"
   ]
  },
  {
   "cell_type": "code",
   "execution_count": 53,
   "metadata": {
    "colab": {
     "base_uri": "https://localhost:8080/"
    },
    "id": "37f9194d",
    "outputId": "9e9c0f22-efb8-4c8f-973c-8252b36bcd3d"
   },
   "outputs": [
    {
     "name": "stdout",
     "output_type": "stream",
     "text": [
      "Model: \"sequential_1\"\n",
      "_________________________________________________________________\n",
      " Layer (type)                Output Shape              Param #   \n",
      "=================================================================\n",
      " conv2d_5 (Conv2D)           (None, 48, 48, 64)        320       \n",
      "                                                                 \n",
      " batch_normalization_7 (Batc  (None, 48, 48, 64)       256       \n",
      " hNormalization)                                                 \n",
      "                                                                 \n",
      " leaky_re_lu_7 (LeakyReLU)   (None, 48, 48, 64)        0         \n",
      "                                                                 \n",
      " max_pooling2d_5 (MaxPooling  (None, 24, 24, 64)       0         \n",
      " 2D)                                                             \n",
      "                                                                 \n",
      " dropout_7 (Dropout)         (None, 24, 24, 64)        0         \n",
      "                                                                 \n",
      " conv2d_6 (Conv2D)           (None, 24, 24, 128)       32896     \n",
      "                                                                 \n",
      " batch_normalization_8 (Batc  (None, 24, 24, 128)      512       \n",
      " hNormalization)                                                 \n",
      "                                                                 \n",
      " leaky_re_lu_8 (LeakyReLU)   (None, 24, 24, 128)       0         \n",
      "                                                                 \n",
      " max_pooling2d_6 (MaxPooling  (None, 12, 12, 128)      0         \n",
      " 2D)                                                             \n",
      "                                                                 \n",
      " dropout_8 (Dropout)         (None, 12, 12, 128)       0         \n",
      "                                                                 \n",
      " conv2d_7 (Conv2D)           (None, 12, 12, 512)       262656    \n",
      "                                                                 \n",
      " batch_normalization_9 (Batc  (None, 12, 12, 512)      2048      \n",
      " hNormalization)                                                 \n",
      "                                                                 \n",
      " leaky_re_lu_9 (LeakyReLU)   (None, 12, 12, 512)       0         \n",
      "                                                                 \n",
      " max_pooling2d_7 (MaxPooling  (None, 6, 6, 512)        0         \n",
      " 2D)                                                             \n",
      "                                                                 \n",
      " dropout_9 (Dropout)         (None, 6, 6, 512)         0         \n",
      "                                                                 \n",
      " conv2d_8 (Conv2D)           (None, 6, 6, 512)         1049088   \n",
      "                                                                 \n",
      " batch_normalization_10 (Bat  (None, 6, 6, 512)        2048      \n",
      " chNormalization)                                                \n",
      "                                                                 \n",
      " leaky_re_lu_10 (LeakyReLU)  (None, 6, 6, 512)         0         \n",
      "                                                                 \n",
      " max_pooling2d_8 (MaxPooling  (None, 3, 3, 512)        0         \n",
      " 2D)                                                             \n",
      "                                                                 \n",
      " dropout_10 (Dropout)        (None, 3, 3, 512)         0         \n",
      "                                                                 \n",
      " conv2d_9 (Conv2D)           (None, 3, 3, 256)         524544    \n",
      "                                                                 \n",
      " batch_normalization_11 (Bat  (None, 3, 3, 256)        1024      \n",
      " chNormalization)                                                \n",
      "                                                                 \n",
      " leaky_re_lu_11 (LeakyReLU)  (None, 3, 3, 256)         0         \n",
      "                                                                 \n",
      " max_pooling2d_9 (MaxPooling  (None, 1, 1, 256)        0         \n",
      " 2D)                                                             \n",
      "                                                                 \n",
      " dropout_11 (Dropout)        (None, 1, 1, 256)         0         \n",
      "                                                                 \n",
      " flatten_1 (Flatten)         (None, 256)               0         \n",
      "                                                                 \n",
      " dense_3 (Dense)             (None, 156)               40092     \n",
      "                                                                 \n",
      " batch_normalization_12 (Bat  (None, 156)              624       \n",
      " chNormalization)                                                \n",
      "                                                                 \n",
      " leaky_re_lu_12 (LeakyReLU)  (None, 156)               0         \n",
      "                                                                 \n",
      " dropout_12 (Dropout)        (None, 156)               0         \n",
      "                                                                 \n",
      " dense_4 (Dense)             (None, 512)               80384     \n",
      "                                                                 \n",
      " batch_normalization_13 (Bat  (None, 512)              2048      \n",
      " chNormalization)                                                \n",
      "                                                                 \n",
      " leaky_re_lu_13 (LeakyReLU)  (None, 512)               0         \n",
      "                                                                 \n",
      " dense_5 (Dense)             (None, 4)                 2052      \n",
      "                                                                 \n",
      "=================================================================\n",
      "Total params: 2,000,592\n",
      "Trainable params: 1,996,312\n",
      "Non-trainable params: 4,280\n",
      "_________________________________________________________________\n"
     ]
    }
   ],
   "source": [
    "no_of_classes = 4\n",
    "\n",
    "model3 = Sequential()\n",
    "\n",
    "# Add 1st CNN Block\n",
    "model3.add(Conv2D(64, kernel_size = 2, padding=\"same\", activation=\"relu\", input_shape=(48,48,1)))\n",
    "model3.add(BatchNormalization())\n",
    "model3.add(LeakyReLU(0.1))\n",
    "model3.add(MaxPooling2D(pool_size=2))\n",
    "model3.add(Dropout(0.2))\n",
    "# Add 2nd CNN Block\n",
    "model3.add(Conv2D(128, kernel_size = 2, padding=\"same\", activation=\"relu\"))\n",
    "model3.add(BatchNormalization())\n",
    "model3.add(LeakyReLU(0.1))\n",
    "model3.add(MaxPooling2D(pool_size=2))\n",
    "model3.add(Dropout(0.2))\n",
    "\n",
    "# Add 3rd CNN Block\n",
    "model3.add(Conv2D(512, kernel_size = 2, padding=\"same\", activation=\"relu\"))\n",
    "model3.add(BatchNormalization())\n",
    "model3.add(LeakyReLU(0.1))\n",
    "model3.add(MaxPooling2D(pool_size=2))\n",
    "model3.add(Dropout(0.2))\n",
    "\n",
    "# Add 4th CNN Block\n",
    "model3.add(Conv2D(512, kernel_size = 2, padding=\"same\", activation=\"relu\"))\n",
    "model3.add(BatchNormalization())\n",
    "model3.add(LeakyReLU(0.1))\n",
    "model3.add(MaxPooling2D(pool_size=2))\n",
    "model3.add(Dropout(0.2))\n",
    "\n",
    "# Add 5th CNN Block\n",
    "model3.add(Conv2D(256, kernel_size = 2, padding=\"same\", activation=\"relu\"))\n",
    "model3.add(BatchNormalization())\n",
    "model3.add(LeakyReLU(0.1))\n",
    "model3.add(MaxPooling2D(pool_size=2))\n",
    "model3.add(Dropout(0.2))\n",
    "\n",
    "model3.add(Flatten())\n",
    "\n",
    "# First fully connected layer\n",
    "model3.add(Dense(156, activation= \"relu\"))\n",
    "model3.add(BatchNormalization())\n",
    "model3.add(LeakyReLU(0.1))\n",
    "model3.add(Dropout(0.2))\n",
    "\n",
    "# Second fully connected layer\n",
    "model3.add(Dense(512, activation= \"relu\"))\n",
    "model3.add(BatchNormalization())\n",
    "model3.add(LeakyReLU(0.1))\n",
    "\n",
    "\n",
    "model3.add(Dense(4, activation = 'softmax'))\n",
    "\n",
    "model3.summary()"
   ]
  },
  {
   "cell_type": "markdown",
   "metadata": {
    "id": "fyc0B--hwTHS"
   },
   "source": [
    "### **Compiling and Training the Model**"
   ]
  },
  {
   "cell_type": "code",
   "execution_count": 54,
   "metadata": {
    "id": "0edabf52"
   },
   "outputs": [],
   "source": [
    "from keras.callbacks import ModelCheckpoint, ReduceLROnPlateau, CSVLogger\n",
    "\n",
    "epochs = 35\n",
    "\n",
    "steps_per_epoch = train_set.n//train_set.batch_size\n",
    "validation_steps = validation_set.n//validation_set.batch_size\n",
    "\n",
    "checkpoint = ModelCheckpoint(\"model3.h5\", monitor = 'val_accuracy',\n",
    "                            save_weights_only = True, model = 'max', verbose = 1)\n",
    "\n",
    "reduce_lr = ReduceLROnPlateau(monitor = 'val_loss', factor = 0.1, patience = 2, min_lr = 0.0001 , model = 'auto')\n",
    "\n",
    "callbacks = [checkpoint, reduce_lr]"
   ]
  },
  {
   "cell_type": "code",
   "execution_count": 55,
   "metadata": {
    "id": "IYDJwZWmKSK6"
   },
   "outputs": [],
   "source": [
    "optimizer = tf.keras.optimizers.Adam(0.003)\n",
    "model3.compile(optimizer = optimizer, loss = 'categorical_crossentropy', metrics = ['accuracy'])"
   ]
  },
  {
   "cell_type": "code",
   "execution_count": 56,
   "metadata": {
    "colab": {
     "base_uri": "https://localhost:8080/"
    },
    "id": "_tB9HX5sKjUL",
    "outputId": "aa5cc6f0-5f90-4356-92e8-3f70b1de106f"
   },
   "outputs": [
    {
     "name": "stdout",
     "output_type": "stream",
     "text": [
      "Epoch 1/35\n",
      "473/473 [==============================] - 18s 36ms/step - loss: 1.5379 - accuracy: 0.2698 - val_loss: 1.4372 - val_accuracy: 0.2958\n",
      "Epoch 2/35\n",
      "473/473 [==============================] - 17s 35ms/step - loss: 1.4366 - accuracy: 0.2763 - val_loss: 1.5052 - val_accuracy: 0.2978\n",
      "Epoch 3/35\n",
      "473/473 [==============================] - 16s 35ms/step - loss: 1.4152 - accuracy: 0.2737 - val_loss: 1.3767 - val_accuracy: 0.3157\n",
      "Epoch 4/35\n",
      "473/473 [==============================] - 17s 35ms/step - loss: 1.3926 - accuracy: 0.2923 - val_loss: 1.3585 - val_accuracy: 0.3002\n",
      "Epoch 5/35\n",
      "473/473 [==============================] - 17s 35ms/step - loss: 1.3359 - accuracy: 0.3223 - val_loss: 1.3147 - val_accuracy: 0.2889\n",
      "Epoch 6/35\n",
      "473/473 [==============================] - 17s 35ms/step - loss: 1.2483 - accuracy: 0.3951 - val_loss: 1.4320 - val_accuracy: 0.3034\n",
      "Epoch 7/35\n",
      "473/473 [==============================] - 17s 35ms/step - loss: 1.1872 - accuracy: 0.4527 - val_loss: 2.2591 - val_accuracy: 0.4099\n",
      "Epoch 8/35\n",
      "473/473 [==============================] - 17s 35ms/step - loss: 1.0860 - accuracy: 0.5174 - val_loss: 1.2823 - val_accuracy: 0.5214\n",
      "Epoch 9/35\n",
      "473/473 [==============================] - 17s 35ms/step - loss: 1.0284 - accuracy: 0.5486 - val_loss: 0.9538 - val_accuracy: 0.6028\n",
      "Epoch 10/35\n",
      "473/473 [==============================] - 17s 35ms/step - loss: 0.9924 - accuracy: 0.5691 - val_loss: 3.5844 - val_accuracy: 0.5606\n",
      "Epoch 11/35\n",
      "473/473 [==============================] - 17s 35ms/step - loss: 0.9504 - accuracy: 0.5881 - val_loss: 0.9191 - val_accuracy: 0.6136\n",
      "Epoch 12/35\n",
      "473/473 [==============================] - 17s 35ms/step - loss: 0.9235 - accuracy: 0.6080 - val_loss: 0.8716 - val_accuracy: 0.6315\n",
      "Epoch 13/35\n",
      "473/473 [==============================] - 17s 35ms/step - loss: 0.9088 - accuracy: 0.6163 - val_loss: 0.8323 - val_accuracy: 0.6389\n",
      "Epoch 14/35\n",
      "473/473 [==============================] - 17s 35ms/step - loss: 0.8772 - accuracy: 0.6296 - val_loss: 1.0624 - val_accuracy: 0.6395\n",
      "Epoch 15/35\n",
      "473/473 [==============================] - 17s 35ms/step - loss: 0.8719 - accuracy: 0.6366 - val_loss: 0.8934 - val_accuracy: 0.6197\n",
      "Epoch 16/35\n",
      "473/473 [==============================] - 17s 35ms/step - loss: 0.8460 - accuracy: 0.6419 - val_loss: 0.9223 - val_accuracy: 0.6681\n",
      "Epoch 17/35\n",
      "473/473 [==============================] - 16s 35ms/step - loss: 0.8287 - accuracy: 0.6557 - val_loss: 0.7765 - val_accuracy: 0.6809\n",
      "Epoch 18/35\n",
      "473/473 [==============================] - 17s 35ms/step - loss: 0.8164 - accuracy: 0.6596 - val_loss: 0.7468 - val_accuracy: 0.6926\n",
      "Epoch 19/35\n",
      "473/473 [==============================] - 17s 35ms/step - loss: 0.7990 - accuracy: 0.6676 - val_loss: 0.7655 - val_accuracy: 0.6797\n",
      "Epoch 20/35\n",
      "473/473 [==============================] - 17s 35ms/step - loss: 0.8199 - accuracy: 0.6534 - val_loss: 2.0076 - val_accuracy: 0.6637\n",
      "Epoch 21/35\n",
      "473/473 [==============================] - 17s 35ms/step - loss: 0.8037 - accuracy: 0.6625 - val_loss: 0.7816 - val_accuracy: 0.6757\n",
      "Epoch 22/35\n",
      "473/473 [==============================] - 17s 35ms/step - loss: 0.7801 - accuracy: 0.6753 - val_loss: 0.7510 - val_accuracy: 0.6936\n",
      "Epoch 23/35\n",
      "473/473 [==============================] - 17s 35ms/step - loss: 0.7662 - accuracy: 0.6805 - val_loss: 0.7481 - val_accuracy: 0.7046\n",
      "Epoch 24/35\n",
      "473/473 [==============================] - 17s 35ms/step - loss: 0.7403 - accuracy: 0.6922 - val_loss: 0.7730 - val_accuracy: 0.6892\n",
      "Epoch 25/35\n",
      "473/473 [==============================] - 17s 35ms/step - loss: 0.7574 - accuracy: 0.6839 - val_loss: 0.7729 - val_accuracy: 0.6779\n",
      "Epoch 26/35\n",
      "473/473 [==============================] - 17s 35ms/step - loss: 0.7469 - accuracy: 0.6892 - val_loss: 0.7690 - val_accuracy: 0.6872\n",
      "Epoch 27/35\n",
      "473/473 [==============================] - 17s 35ms/step - loss: 0.7315 - accuracy: 0.6959 - val_loss: 0.7259 - val_accuracy: 0.7075\n",
      "Epoch 28/35\n",
      "473/473 [==============================] - 17s 35ms/step - loss: 0.7178 - accuracy: 0.6995 - val_loss: 0.7940 - val_accuracy: 0.6829\n",
      "Epoch 29/35\n",
      "473/473 [==============================] - 17s 35ms/step - loss: 0.7106 - accuracy: 0.7031 - val_loss: 0.7078 - val_accuracy: 0.7179\n",
      "Epoch 30/35\n",
      "473/473 [==============================] - 17s 35ms/step - loss: 0.7028 - accuracy: 0.7138 - val_loss: 0.7029 - val_accuracy: 0.7187\n",
      "Epoch 31/35\n",
      "473/473 [==============================] - 16s 35ms/step - loss: 0.6950 - accuracy: 0.7172 - val_loss: 0.8331 - val_accuracy: 0.7127\n",
      "Epoch 32/35\n",
      "473/473 [==============================] - 17s 35ms/step - loss: 0.6902 - accuracy: 0.7155 - val_loss: 0.7248 - val_accuracy: 0.7097\n",
      "Epoch 33/35\n",
      "473/473 [==============================] - 17s 35ms/step - loss: 0.6693 - accuracy: 0.7267 - val_loss: 0.7409 - val_accuracy: 0.7083\n",
      "Epoch 34/35\n",
      "473/473 [==============================] - 17s 35ms/step - loss: 0.6701 - accuracy: 0.7251 - val_loss: 0.6915 - val_accuracy: 0.7243\n",
      "Epoch 35/35\n",
      "473/473 [==============================] - 17s 35ms/step - loss: 0.6749 - accuracy: 0.7218 - val_loss: 0.7705 - val_accuracy: 0.7119\n"
     ]
    }
   ],
   "source": [
    "history4 = model3.fit(train_set, validation_data = validation_set, epochs = 35)\n"
   ]
  },
  {
   "cell_type": "markdown",
   "metadata": {
    "id": "BbAqrAQQVjIR"
   },
   "source": [
    "### **Evaluating the Model on Test Set**"
   ]
  },
  {
   "cell_type": "code",
   "execution_count": 117,
   "metadata": {
    "colab": {
     "base_uri": "https://localhost:8080/",
     "height": 791
    },
    "id": "uO26AYRuVm7F",
    "outputId": "d8e737c3-65f7-4026-d8a0-175320bcdf58"
   },
   "outputs": [
    {
     "data": {
      "image/png": "[encoded data removed]",
      "text/plain": [
       "<Figure size 576x576 with 1 Axes>"
      ]
     },
     "metadata": {
      "needs_background": "light"
     },
     "output_type": "display_data"
    },
    {
     "data": {
      "image/png": "[encoded data removed]",
      "text/plain": [
       "<Figure size 432x288 with 1 Axes>"
      ]
     },
     "metadata": {
      "needs_background": "light"
     },
     "output_type": "display_data"
    }
   ],
   "source": [
    "\n",
    "dict_hist = history4.history\n",
    "\n",
    "list_ep = [i for i in range(1, 36)]\n",
    "\n",
    "plt.figure(figsize = (8, 8))\n",
    "\n",
    "\n",
    "plt.plot(list_ep, dict_hist['accuracy'], ls = '--', label = 'accuracy')\n",
    "\n",
    "plt.plot(list_ep, dict_hist['val_accuracy'], ls = '--', label = 'val_accuracy')\n",
    "\n",
    "plt.title('Model 3 Accuracy')\n",
    "\n",
    "plt.ylabel('Accuracy')\n",
    "\n",
    "plt.xlabel('Epochs')\n",
    "\n",
    "plt.legend()\n",
    "\n",
    "plt.show()\n",
    "\n",
    "\n",
    "#plot loss of model1\n",
    "plt.plot(history4.history['loss'])\n",
    "plt.plot(history4.history['val_loss'])\n",
    "plt.title('Model 3 Loss')\n",
    "plt.ylabel('Loss')\n",
    "plt.xlabel('Epoch')\n",
    "plt.legend(['train', 'validation'], loc='upper left')\n",
    "plt.show()"
   ]
  },
  {
   "cell_type": "markdown",
   "metadata": {
    "id": "81uYGSmHwxfD"
   },
   "source": [
    "**Observations and Insights:\n",
    "- The training accuracy gets up to 0.73.\n",
    "- The validation accuracy remains around 0.70\n",
    "- there is not much over fitting in this model.\n",
    "- both accuracy datasets show that the model levels off at around \n",
    "- the validation loss shows a lot of noise, removing the last dropout layer fixed some of that.\n",
    "- overall, the model learns at a fairly steady rate, and gets lowest at 30 epochs and levels off\n",
    "\n",
    "\n",
    "\n",
    "\n",
    "**"
   ]
  },
  {
   "cell_type": "markdown",
   "metadata": {
    "id": "GNWc6agwxJ_z"
   },
   "source": [
    "### **Plotting the Confusion Matrix for the chosen final model**"
   ]
  },
  {
   "cell_type": "code",
   "execution_count": 45,
   "metadata": {
    "colab": {
     "base_uri": "https://localhost:8080/",
     "height": 560
    },
    "id": "SFTRyIk-yjoQ",
    "outputId": "d33a005a-3cb5-4450-887b-8c7ce915dda9"
   },
   "outputs": [
    {
     "name": "stdout",
     "output_type": "stream",
     "text": [
      "Found 128 images belonging to 4 classes.\n",
      "4/4 [==============================] - 0s 3ms/step\n",
      "              precision    recall  f1-score   support\n",
      "\n",
      "           0       0.88      0.72      0.79        32\n",
      "           1       0.59      0.72      0.65        32\n",
      "           2       0.64      0.66      0.65        32\n",
      "           3       0.93      0.88      0.90        32\n",
      "\n",
      "    accuracy                           0.74       128\n",
      "   macro avg       0.76      0.74      0.75       128\n",
      "weighted avg       0.76      0.74      0.75       128\n",
      "\n"
     ]
    },
    {
     "data": {
      "image/png": "[encoded data removed]",
      "text/plain": [
       "<Figure size 576x360 with 2 Axes>"
      ]
     },
     "metadata": {
      "needs_background": "light"
     },
     "output_type": "display_data"
    }
   ],
   "source": [
    "# Plot the confusion matrix and generate a classification report for the model\n",
    "from sklearn.metrics import classification_report\n",
    "from sklearn.metrics import confusion_matrix\n",
    "test_set = datagen_test.flow_from_directory(folder_path + \"test\",\n",
    "                                                              target_size = (img_size,img_size),\n",
    "                                                              color_mode = 'grayscale',\n",
    "                                                              batch_size = 128,\n",
    "                                                              class_mode = 'categorical',\n",
    "                                                              classes = ['happy', 'sad', 'neutral', 'surprise'],\n",
    "                                                              shuffle = True) \n",
    "test_images, test_labels = next(test_set)\n",
    "\n",
    "pred = model3.predict(test_images)\n",
    "pred = np.argmax(pred, axis = 1) \n",
    "y_true = np.argmax(test_labels, axis = 1)\n",
    "\n",
    "# Printing the classification report\n",
    "print(classification_report(y_true, pred))\n",
    "\n",
    "# Plotting the heatmap using confusion matrix\n",
    "cm = confusion_matrix(y_true, pred)\n",
    "plt.figure(figsize = (8, 5))\n",
    "sns.heatmap(cm, annot = True,  fmt = '.0f', xticklabels = ['happy', 'sad', 'neutral', 'surprise'], yticklabels = ['happy', 'sad', 'neutral', 'surprise'])\n",
    "plt.ylabel('Actual')\n",
    "plt.xlabel('Predicted')\n",
    "plt.show()"
   ]
  },
  {
   "cell_type": "markdown",
   "metadata": {
    "id": "LGgvpOrP8q_x"
   },
   "source": [
    "**Observations and Insights:\n",
    "- surprise is once again classified the most accuractly, at about 90%\n",
    "- happy and sad are correctly classified the scond most but happy is misclassified as sad and neutral 12.5% of the time\n",
    "- Sad is misclassified 25% of the time as neutral.\n",
    "- the f1 score for sad and nuetral is not very good but the recall on sad is much better than the recall on neutral\n",
    "- this model still struggles on the difference between neutral and sad misclassifying both as eachother.\n",
    "- Neutral is misclassified nearly 1/3 of the time as sad.\n",
    "- None of these are necessarily new insights into the data but This model outperformed the vast majority of other models.\n",
    "\n",
    "\n",
    "\n",
    "\n",
    "\n",
    "\n",
    "**"
   ]
  },
  {
   "cell_type": "markdown",
   "metadata": {
    "id": "6s_baiF_KllW"
   },
   "source": [
    "## **Conclusion:\n",
    "- The transfer learning models did not perform as well as i hoped. I would not select any of them as the solution model.\n",
    "- I would select the Resnet model with the retrained weights. \n",
    "- It slightly beats out model 3, in accuracy, F1 scores, and performed better on the test set.\n",
    "- There is slight over fitting but its performance on the test data nullifies that. \n",
    "- The resnet2 model performed better on the neutral faces, and about the same on the sad faces.\n",
    "- I dont believe there was much of way to improve the performance of the transfer learning sets as far as messing with the models\n",
    "- One solution that could work would be finding a facial recognition model like vgg face and use those weights that are allready trained.\n",
    "- I beleive the reason these transfer models performed so poorly was because they are not trained on facial features but random objects, and even though there may be people in the random objects, it was not trained to recognize the features on their faces so transfering the weights is almost meaningless.\n",
    "\n",
    "\n",
    "\n",
    "\n",
    "\n",
    "**"
   ]
  }
 ],
 "metadata": {
  "accelerator": "GPU",
  "colab": {
   "collapsed_sections": [
    "ThCSNrWC4HW0"
   ],
   "provenance": []
  },
  "gpuClass": "premium",
  "kernelspec": {
   "display_name": "Python 3 (ipykernel)",
   "language": "python",
   "name": "python3"
  },
  "language_info": {
   "codemirror_mode": {
    "name": "ipython",
    "version": 3
   },
   "file_extension": ".py",
   "mimetype": "text/x-python",
   "name": "python",
   "nbconvert_exporter": "python",
   "pygments_lexer": "ipython3",
   "version": "3.9.12"
  }
 },
 "nbformat": 4,
 "nbformat_minor": 1
}
